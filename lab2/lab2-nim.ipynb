{
 "cells": [
  {
   "cell_type": "markdown",
   "metadata": {},
   "source": [
    "# LAB 2"
   ]
  },
  {
   "cell_type": "code",
   "execution_count": 1,
   "metadata": {},
   "outputs": [],
   "source": [
    "import logging\n",
    "from pprint import pformat\n",
    "from collections import namedtuple\n",
    "import random\n",
    "from copy import deepcopy\n",
    "from dataclasses import dataclass"
   ]
  },
  {
   "cell_type": "markdown",
   "metadata": {},
   "source": [
    "## The *Nim* and *Nimply* classes"
   ]
  },
  {
   "cell_type": "code",
   "execution_count": 2,
   "metadata": {},
   "outputs": [],
   "source": [
    "Nimply = namedtuple(\"Nimply\", \"row, num_objects\")\n"
   ]
  },
  {
   "cell_type": "code",
   "execution_count": 3,
   "metadata": {},
   "outputs": [],
   "source": [
    "class Nim:\n",
    "    def __init__(self, num_rows: int, k: int = None) -> None:\n",
    "        self._rows = [i * 2 + 1 for i in range(num_rows)] #just building the rows, given a number of sticks\n",
    "        self._k = k #maximum number of sticks you can remove from a row\n",
    "\n",
    "    def __bool__(self):\n",
    "        return sum(self._rows) > 0\n",
    "\n",
    "    def __str__(self):\n",
    "        return \"<\" + \" \".join(str(_) for _ in self._rows) + \">\"\n",
    "\n",
    "    @property\n",
    "    def rows(self) -> tuple:\n",
    "        return tuple(self._rows)\n",
    "    \n",
    "    @property #added to return the max number of sticks that can be removed\n",
    "    def k(self) -> int:\n",
    "        return self._k\n",
    "\n",
    "    def nimming(self, ply: Nimply) -> None:\n",
    "        row, num_objects = ply\n",
    "        assert self._rows[row] >= num_objects\n",
    "        assert self._k is None or num_objects <= self._k\n",
    "        self._rows[row] -= num_objects\n"
   ]
  },
  {
   "cell_type": "markdown",
   "metadata": {},
   "source": [
    "## Sample (and silly) startegies "
   ]
  },
  {
   "cell_type": "code",
   "execution_count": 4,
   "metadata": {},
   "outputs": [],
   "source": [
    "def pure_random(state: Nim) -> Nimply:\n",
    "    row = random.choice([r for r, c in enumerate(state.rows) if c > 0])\n",
    "    num_objects = random.randint(1, state.rows[row] if state.k is None else min(state.rows[row], state.k))\n",
    "    return Nimply(row, num_objects)"
   ]
  },
  {
   "cell_type": "code",
   "execution_count": 5,
   "metadata": {},
   "outputs": [],
   "source": [
    "import numpy as np\n",
    "\n",
    "def nim_sum(state: Nim) -> int:\n",
    "    tmp = np.array([tuple(int(x) for x in f\"{c:032b}\") for c in state.rows])\n",
    "    xor = tmp.sum(axis=0) % 2\n",
    "    return int(\"\".join(str(_) for _ in xor), base=2)\n",
    "\n",
    "\n",
    "def analize(state: Nim) -> dict:\n",
    "    cooked = dict()\n",
    "    cooked[\"possible_moves\"] = dict()\n",
    "    for ply in (Nimply(r, o) for r, c in enumerate(state.rows) for o in range(1, c + 1 if state.k is None else min(c + 1, state.k))):\n",
    "        tmp = deepcopy(state)\n",
    "        tmp.nimming(ply)\n",
    "        cooked[\"possible_moves\"][ply] = nim_sum(tmp)\n",
    "    return cooked\n"
   ]
  },
  {
   "cell_type": "code",
   "execution_count": 6,
   "metadata": {},
   "outputs": [],
   "source": [
    "def optimal(state: Nim) -> Nimply: #already defined for the lab -> it tries to choose a move that implies nim sum not equal to 0\n",
    "    analysis = analize(state)\n",
    "    logging.debug(f\"analysis:\\n{pformat(analysis)}\")\n",
    "    spicy_moves = [ply for ply, ns in analysis[\"possible_moves\"].items() if ns != 0]\n",
    "    if not spicy_moves:\n",
    "        spicy_moves = list(analysis[\"possible_moves\"].keys())\n",
    "    logging.debug(pformat(f\"{analysis['possible_moves']}\"))\n",
    "    ply = random.choice(spicy_moves)\n",
    "    return ply"
   ]
  },
  {
   "cell_type": "markdown",
   "metadata": {},
   "source": [
    "## Building an expert system (fixed rules)"
   ]
  },
  {
   "cell_type": "markdown",
   "metadata": {},
   "source": [
    "Assuming that the version of the game is the one in which the person who takes the last stick loose, an expert system can be built considering the following ideas:\n",
    "- leaving always a state in which the nim sum is equal to zero during early/mid game\n",
    "- exploit some final strategies depending on the state during end game\n",
    "\n",
    "An explaination of the previously mentioned strategies can be found in this basic and short YouTube video: https://www.youtube.com/watch?v=SUh8C387BVU.\n",
    "\n",
    "Basically there are two types of final situation also depending on which person starts the game:\n",
    "- a state in which you have only a row -> in this case what you have to do is to take all the sticks except for the last one\n",
    "- a state in which for example there are two rows with 1 and 2 sticks -> you mustn't leave nim sum equal to 0 removing 1 stick from the row with 2 sticks, but directly empty all that row"
   ]
  },
  {
   "cell_type": "code",
   "execution_count": 7,
   "metadata": {},
   "outputs": [],
   "source": [
    "def my_expert_system(state: Nim) -> Nimply:\n",
    "    analysis = analize(state)\n",
    "    logging.debug(f\"analysis:\\n{pformat(analysis)}\")\n",
    "    n_rows_with_sticks = len(state.rows) - state.rows.count(0)\n",
    "    n_rows_with_1_stick = state.rows.count(1)\n",
    "\n",
    "    # here I consider the case in which I have 1 row with 1 stick and one row with more than sticks\n",
    "    if (n_rows_with_1_stick == 1 and n_rows_with_sticks == 2): \n",
    "        row, objects = [(row, objects) for row, objects in enumerate(state.rows) if objects > 1][0]\n",
    "        if objects <= state.k:\n",
    "            ply = Nimply(row, objects)\n",
    "            return ply\n",
    "\n",
    "    # here I consider the case in which I have 2 rows with 1 stick each\n",
    "    if n_rows_with_1_stick == 2: \n",
    "        row, objects = [(row, objects) for row, objects in enumerate(state.rows) if objects >= 1][0]\n",
    "        ply = Nimply(row, 1)\n",
    "        return ply\n",
    "\n",
    "    # here I consider the case in which I have only one more row with sticks\n",
    "    if n_rows_with_sticks == 1:\n",
    "        row, objects = [(row, objects) for row, objects in enumerate(state.rows) if objects >= 1][0]\n",
    "        if objects <= (state.k + 1):\n",
    "            ply = Nimply(row, objects - 1)\n",
    "            return ply\n",
    "    \n",
    "    spicy_moves = [ply for ply, ns in analysis[\"possible_moves\"].items() if ns == 0]\n",
    "    if not spicy_moves:\n",
    "        spicy_moves = list(analysis[\"possible_moves\"].keys())\n",
    "    logging.debug(pformat(f\"{analysis['possible_moves']}\"))\n",
    "    ply = random.choice(spicy_moves)\n",
    "    return ply"
   ]
  },
  {
   "cell_type": "markdown",
   "metadata": {},
   "source": [
    "## Match between an expert system and a pure random strategy"
   ]
  },
  {
   "cell_type": "code",
   "execution_count": 8,
   "metadata": {},
   "outputs": [
    {
     "name": "stderr",
     "output_type": "stream",
     "text": [
      "INFO:root:init : <1 3 5 7>\n",
      "INFO:root:ply: player 0 plays Nimply(row=0, num_objects=1)\n",
      "INFO:root:status: <0 3 5 7>\n",
      "INFO:root:ply: player 1 plays Nimply(row=1, num_objects=1)\n",
      "INFO:root:status: <0 2 5 7>\n",
      "INFO:root:ply: player 0 plays Nimply(row=1, num_objects=1)\n",
      "INFO:root:status: <0 1 5 7>\n",
      "INFO:root:ply: player 1 plays Nimply(row=3, num_objects=2)\n",
      "INFO:root:status: <0 1 5 5>\n",
      "INFO:root:ply: player 0 plays Nimply(row=3, num_objects=1)\n",
      "INFO:root:status: <0 1 5 4>\n",
      "INFO:root:ply: player 1 plays Nimply(row=3, num_objects=1)\n",
      "INFO:root:status: <0 1 5 3>\n",
      "INFO:root:ply: player 0 plays Nimply(row=3, num_objects=2)\n",
      "INFO:root:status: <0 1 5 1>\n",
      "INFO:root:ply: player 1 plays Nimply(row=1, num_objects=1)\n",
      "INFO:root:status: <0 0 5 1>\n",
      "INFO:root:ply: player 0 plays Nimply(row=2, num_objects=1)\n",
      "INFO:root:status: <0 0 4 1>\n",
      "INFO:root:ply: player 1 plays Nimply(row=2, num_objects=1)\n",
      "INFO:root:status: <0 0 3 1>\n",
      "INFO:root:ply: player 0 plays Nimply(row=3, num_objects=1)\n",
      "INFO:root:status: <0 0 3 0>\n",
      "INFO:root:ply: player 1 plays Nimply(row=2, num_objects=2)\n",
      "INFO:root:status: <0 0 1 0>\n",
      "INFO:root:ply: player 0 plays Nimply(row=2, num_objects=1)\n",
      "INFO:root:status: <0 0 0 0>\n",
      "INFO:root:status: Player 1 won!\n"
     ]
    }
   ],
   "source": [
    "logging.getLogger().setLevel(logging.INFO)\n",
    "\n",
    "strategy = (pure_random, my_expert_system)\n",
    "\n",
    "nim = Nim(4, 3)\n",
    "logging.info(f\"init : {nim}\")\n",
    "player = 0\n",
    "while nim:\n",
    "    ply = strategy[player](nim)\n",
    "    logging.info(f\"ply: player {player} plays {ply}\")\n",
    "    nim.nimming(ply)\n",
    "    logging.info(f\"status: {nim}\")\n",
    "    player = 1 - player\n",
    "logging.info(f\"status: Player {player} won!\")\n"
   ]
  },
  {
   "cell_type": "markdown",
   "metadata": {},
   "source": [
    "## (1+lambda) strategy"
   ]
  },
  {
   "cell_type": "markdown",
   "metadata": {},
   "source": [
    "To implement this evolution strategy algorithm, I decided to define 3 basic moves and to create my player in such a way that he is able to understand which move he has to use in order to win the game. \n",
    "These three moves consist in:\n",
    "- removing the maximum allowed number of sticks from a random row\n",
    "- removing 1 stick from a random row\n",
    "- leaving nim sum equal to 0\n",
    "\n",
    "I added to these moves also the previously defined strategy used to create my_expert_system.\n",
    "A point of strenght of this implementation consists in the division of the game in two phases. Indeed, as explained before, to win the nim game we have to behave in two completely different ways based on the fact that we are in early/mid game or in end game, so I thought that it would have been useful to have two different sets of weights.\n",
    "I trained the player against an opponent that uses pure_random strategy and, once it finished, I tested it against another random player and against the optimal strategy. Note that as optimal strategy I used the one already defined and not my personal expert system."
   ]
  },
  {
   "cell_type": "code",
   "execution_count": 9,
   "metadata": {},
   "outputs": [],
   "source": [
    "#remove the maximum allowed number of sticks from a random row\n",
    "def remove_max(state: Nim) -> Nimply:\n",
    "    ply_list = []\n",
    "    if state.k == None:\n",
    "        for ply in (Nimply(r, c) for r, c in enumerate(state.rows) if c >= 1):\n",
    "            ply_list.append(ply)\n",
    "    else:\n",
    "        for ply in (Nimply(r, min(c, state.k)) for r, c in enumerate(state.rows) if c >= 1):\n",
    "            ply_list.append(ply)\n",
    "    return random.choice(ply_list)"
   ]
  },
  {
   "cell_type": "code",
   "execution_count": 10,
   "metadata": {},
   "outputs": [],
   "source": [
    "#remove 1 stick from a random row\n",
    "def remove_1(state: Nim) -> Nimply:\n",
    "    ply_list = []\n",
    "    for ply in (Nimply(r, 1) for r, c in enumerate(state.rows) if c >= 1):\n",
    "        ply_list.append(ply)\n",
    "    return random.choice(ply_list)"
   ]
  },
  {
   "cell_type": "code",
   "execution_count": 11,
   "metadata": {},
   "outputs": [],
   "source": [
    "#leave nim sum equal to 0\n",
    "def leave_ns_0(state: Nim) -> Nimply:\n",
    "    analysis = analize(state)\n",
    "    ply_list = [ply for ply, ns in analysis[\"possible_moves\"].items() if ns == 0]\n",
    "    if not ply_list:\n",
    "        ply_list = list(analysis[\"possible_moves\"].keys())\n",
    "    return random.choice(ply_list)"
   ]
  },
  {
   "cell_type": "code",
   "execution_count": 12,
   "metadata": {},
   "outputs": [],
   "source": [
    "@dataclass\n",
    "class my_player:\n",
    "\n",
    "    def __init__(self, strategies, weights):\n",
    "\n",
    "        self._strategies = [remove_1, remove_max, leave_ns_0, my_expert_system]\n",
    "        if weights is None:\n",
    "            self._weights = [] #list of list of weights (first list for the first phase, second list for the second phase)\n",
    "            self._weights.append(np.random.random(len(self._strategies)))\n",
    "            self._weights.append(np.random.random(len(self._strategies)))\n",
    "        else:\n",
    "            self._weights = weights\n",
    "\n",
    "    @property\n",
    "    def weights(self):\n",
    "        return self._weights\n",
    "    \n",
    "    @property\n",
    "    def strategies(self):\n",
    "        return self._strategies\n",
    "\n",
    "    def mutate(my_p):\n",
    "        global LAMBDA\n",
    "        global sigma\n",
    "\n",
    "        weights = []\n",
    "        weights.append(np.random.normal(loc=0, scale=sigma, size=(len(my_p._strategies)))+ my_p.weights[0])\n",
    "        weights.append(np.random.normal(loc=0, scale=sigma, size=(len(my_p._strategies)))+ my_p.weights[1])\n",
    "        \n",
    "        for i in range(len(my_p._strategies)): #set to 0 the weights if negative\n",
    "            if weights[0][i] < 0:\n",
    "                weights[0][i] = 0.001\n",
    "            if weights[1][i] < 0:\n",
    "                weights[1][i] = 0.001\n",
    "\n",
    "        return my_player(strategies=my_p.strategies, weights=weights)\n",
    "        \n",
    "    "
   ]
  },
  {
   "cell_type": "code",
   "execution_count": 13,
   "metadata": {},
   "outputs": [],
   "source": [
    "LAMBDA = 20\n",
    "sigma = 0.2 #mutation rate"
   ]
  },
  {
   "cell_type": "code",
   "execution_count": 14,
   "metadata": {},
   "outputs": [],
   "source": [
    "def Endgame(state: Nim) -> int: #it returns the number of not empy rows\n",
    "    n_rows_with_sticks = len(state.rows) - state.rows.count(0)\n",
    "    return n_rows_with_sticks\n",
    "\n",
    "def games(my_player, opponent_strategy, matches):\n",
    "    wins = 0\n",
    "    for _ in range(matches):\n",
    "        nim = Nim(4, 3)\n",
    "        player = 0\n",
    "        endgame = 0\n",
    "        while nim:            \n",
    "            if player == 0:\n",
    "                endgame = Endgame(nim)\n",
    "                if endgame > 2:\n",
    "                    strategy = random.choices(my_player.strategies, my_player.weights[0], k=1)[0]\n",
    "                else:\n",
    "                    strategy = random.choices(my_player.strategies, my_player.weights[1], k=1)[0]\n",
    "                ply = strategy(nim)\n",
    "            else:\n",
    "                ply = opponent_strategy(nim)\n",
    "            nim.nimming(ply)\n",
    "            player = 1 - player\n",
    "        if player == 0:\n",
    "            wins += 1\n",
    "    fitness = wins / matches\n",
    "    return fitness"
   ]
  },
  {
   "cell_type": "code",
   "execution_count": 18,
   "metadata": {},
   "outputs": [
    {
     "name": "stdout",
     "output_type": "stream",
     "text": [
      "Accuracies:\n",
      "  First accuracy: 48.20%\n",
      "  New best accuracy achieved in the 1° generation: 64.00%\n",
      "  New best accuracy achieved in the 2° generation: 76.60%\n",
      "  New best accuracy achieved in the 3° generation: 82.80%\n",
      "  New best accuracy achieved in the 4° generation: 85.80%\n",
      "  New best accuracy achieved in the 5° generation: 90.80%\n",
      "  New best accuracy achieved in the 6° generation: 97.20%\n",
      "  New best accuracy achieved in the 7° generation: 99.80%\n",
      "\n",
      "Best performances:\n",
      "  Accuracy of the trained player vs pure_random: 100.00%\n",
      "  Accuracy of the trained player vs optimal (not my expert system): 100.00%\n"
     ]
    }
   ],
   "source": [
    "matches = 500\n",
    "opponent_strategy = pure_random\n",
    "n_new_gen = 100\n",
    "\n",
    "parent = my_player(None, None) #parent of the first generations\n",
    "best_fitness = games(parent, opponent_strategy, matches) #ratio wins/matches used as fitness\n",
    "print(\"Accuracies:\")\n",
    "print(f\"  First accuracy: {best_fitness:.2%}\")\n",
    "\n",
    "for i in range(n_new_gen):\n",
    "    offspring = []\n",
    "    offspring_fitness = []\n",
    "    for _ in range(LAMBDA): #generate lambda new individuals\n",
    "        offspring.append(parent.mutate())\n",
    "    for off in offspring: #evaluate the fitness of the new individuals\n",
    "        offspring_fitness.append(games(off, opponent_strategy, matches))\n",
    "\n",
    "    best_off = np.argmax(offspring_fitness) #selecting the best new individual\n",
    "    if best_fitness < offspring_fitness[best_off]: \n",
    "        parent = offspring[best_off] #updating the parent for the next gen\n",
    "        best_fitness = offspring_fitness[best_off] #updating the best fitness\n",
    "        print(f\"  New best accuracy achieved in the {i+1}° generation: {best_fitness:.2%}\")\n",
    "    if best_fitness >= 0.99:\n",
    "        break\n",
    "\n",
    "print('\\nBest performances:')\n",
    "print(f'  Accuracy of the trained player vs pure_random: {games(parent, pure_random, 10):.2%}')\n",
    "print(f'  Accuracy of the trained player vs optimal (not my expert system): {games(parent, optimal, 10):.2%}')"
   ]
  }
 ],
 "metadata": {
  "kernelspec": {
   "display_name": "Python 3.10.7 ('ci22-dPIXJ0_o-py3.10')",
   "language": "python",
   "name": "python3"
  },
  "language_info": {
   "codemirror_mode": {
    "name": "ipython",
    "version": 3
   },
   "file_extension": ".py",
   "mimetype": "text/x-python",
   "name": "python",
   "nbconvert_exporter": "python",
   "pygments_lexer": "ipython3",
   "version": "3.10.11"
  },
  "vscode": {
   "interpreter": {
    "hash": "10197e8e2f2aa67e2c349105091c77f4cd384fce4877865f002d9ec653f96bc0"
   }
  }
 },
 "nbformat": 4,
 "nbformat_minor": 2
}
