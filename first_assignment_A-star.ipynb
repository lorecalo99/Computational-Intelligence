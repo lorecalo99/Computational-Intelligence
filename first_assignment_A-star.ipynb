{
 "cells": [
  {
   "cell_type": "markdown",
   "metadata": {},
   "source": [
    "## First assignment (A* implementation)"
   ]
  },
  {
   "cell_type": "code",
   "execution_count": 28,
   "metadata": {},
   "outputs": [],
   "source": [
    "from random import random\n",
    "from functools import reduce\n",
    "from collections import namedtuple\n",
    "from queue import PriorityQueue, SimpleQueue, LifoQueue\n",
    "import numpy as np"
   ]
  },
  {
   "cell_type": "markdown",
   "metadata": {},
   "source": [
    "The state is described by a set of already taken sets of tiles and a set of not taken sets of tiles."
   ]
  },
  {
   "cell_type": "code",
   "execution_count": 43,
   "metadata": {},
   "outputs": [],
   "source": [
    "PROBLEM_SIZE = 20 #size of the numpy arrays \"SETS\" that represent all the sets of tiles (a tile is a bolean)\n",
    "NUM_SETS = 30 #number of sets of tiles\n",
    "TILE_PROBABILITY = 0.3 #probability of one single tile inside each set of being covered (being True)\n",
    "\n",
    "SETS = tuple(\n",
    "    np.array([random() < TILE_PROBABILITY for _ in range(PROBLEM_SIZE)])\n",
    "    for _ in range(NUM_SETS)\n",
    ")\n",
    "State = namedtuple('State', ['taken', 'not_taken'])"
   ]
  },
  {
   "cell_type": "code",
   "execution_count": 30,
   "metadata": {},
   "outputs": [],
   "source": [
    "def goal_check(state):\n",
    "    return np.all(reduce(\n",
    "        np.logical_or,\n",
    "        [SETS[i] for i in state.taken],\n",
    "        np.array([False for _ in range(PROBLEM_SIZE)]),\n",
    "    ))\n",
    "\n",
    "\n",
    "def pessimistic_distance_from_the_solution(state): #not used for A* because we need an optimistic one\n",
    "    return PROBLEM_SIZE - sum(\n",
    "        reduce(\n",
    "            np.logical_or,\n",
    "            [SETS[i] for i in state.taken],\n",
    "            np.array([False for _ in range(PROBLEM_SIZE)]),\n",
    "        ))\n"
   ]
  },
  {
   "cell_type": "markdown",
   "metadata": {},
   "source": [
    "### A* implementation:"
   ]
  },
  {
   "cell_type": "markdown",
   "metadata": {},
   "source": [
    "I need to implement 2 functions to compute the priority of a state:\n",
    "- the cost function: it describes the cost paid to arrive at a certain point\n",
    "- the heuristic function: it describes how far the solution is from the current state\n",
    "\n",
    "In this case I decided to use as heuristic function a cumulative distribution, indeed I calculate the probability of existence of a set of tiles in which there are at least a number of True equal to the number of uncovered element, the optimistic point of view is in the fact of considering that this set of tiles has all the True in the exact positions that I need. In order to consider a decreasing function I used 1 - cdf as a measure of distance from the solution.\n",
    "\n",
    "For the cost function I used the number of taken sets normalized between 0 and 1, obtained dividing by the total number of sets. This normalization is necessary because otherwise the quantity of the cost and of the heuristic were not comparable (the priority key would practically depend only on the cost function -> Djikstra algorithm). Furthermore I decided to multiply this quantity by alpha in order to enlarge the range to (0, alpha), to guarantee a more complete exploration of the solution (otherwise there were some rare cases in which this algorithm didn't find the best solution). I set this alpha = 2, a bigger number would give more importance to the cost function and would lead to a more complete exploration of the solutions.\n"
   ]
  },
  {
   "cell_type": "code",
   "execution_count": 46,
   "metadata": {},
   "outputs": [],
   "source": [
    "from scipy.stats import binom\n",
    "\n",
    "def not_covered(state):\n",
    "    return PROBLEM_SIZE - sum(\n",
    "        reduce(\n",
    "            np.logical_or,\n",
    "            [SETS[i] for i in state.taken],\n",
    "            np.array([False for _ in range(PROBLEM_SIZE)]),\n",
    "        ))\n",
    "\n",
    "def heuristic_function(state):            #for me p(x>=3) 1-p(x<3)\n",
    "    prob_greater_equal = (1 - binom.cdf(not_covered(state), PROBLEM_SIZE, TILE_PROBABILITY)) #but this is an increasing f \n",
    "    #to have a decreasing heuristic and a quantity comparable to the cost function I choose to compute this measure\n",
    "    distance_from_solution_h = 1 - prob_greater_equal \n",
    "    # ^^^^^ basically the cdf but I repeated the code to be clear (it could be just avoided the double \"1 - ...\")\n",
    "    return distance_from_solution_h # quantity included in (0, 1)\n",
    "\n",
    "def cost_function(state):\n",
    "    alpha = 2\n",
    "    return (1/NUM_SETS) * len(state.taken) * alpha # quantity included in (0, alpha), in order to make the algorithm more complete"
   ]
  },
  {
   "cell_type": "code",
   "execution_count": 32,
   "metadata": {},
   "outputs": [],
   "source": [
    "def a_star(state):\n",
    "    frontier = PriorityQueue()\n",
    "    frontier.put((cost_function(state) + heuristic_function(state), state))\n",
    "\n",
    "    counter = 0\n",
    "    _, current_state = frontier.get()\n",
    "    while not goal_check(current_state):\n",
    "        counter += 1\n",
    "        for action in current_state.not_taken:\n",
    "            new_state = State(current_state.taken ^ {action}, current_state.not_taken ^ {action})\n",
    "            frontier.put((cost_function(new_state) + heuristic_function(new_state), new_state))\n",
    "        _, current_state = frontier.get()\n",
    "\n",
    "    print(f\"Solved in {counter:,} steps ({len(current_state.taken)} sets of tiles)\")\n",
    "    print(f\"Solution: {current_state}\")\n",
    "    "
   ]
  },
  {
   "cell_type": "code",
   "execution_count": 47,
   "metadata": {},
   "outputs": [
    {
     "name": "stdout",
     "output_type": "stream",
     "text": [
      "Solved in 12 steps (4 sets of tiles)\n",
      "Solution: State(taken={8, 9, 3, 5}, not_taken={0, 1, 2, 4, 6, 7, 10, 11, 12, 13, 14, 15, 16, 17, 18, 19, 20, 21, 22, 23, 24, 25, 26, 27, 28, 29})\n"
     ]
    }
   ],
   "source": [
    "assert goal_check(\n",
    "    State(set(range(NUM_SETS)), set())\n",
    "), \"Problem not solvable\"\n",
    "\n",
    "state = State(set(), set(range(NUM_SETS)))\n",
    "a_star(state)"
   ]
  },
  {
   "cell_type": "markdown",
   "metadata": {},
   "source": [
    "Code written by the professor, usefull to make some comparisons in results and performances:"
   ]
  },
  {
   "cell_type": "code",
   "execution_count": 45,
   "metadata": {},
   "outputs": [
    {
     "name": "stdout",
     "output_type": "stream",
     "text": [
      "Solved in 49,039 steps (4 sets of tiles)\n",
      "Solution: State(taken={1, 3, 21, 14}, not_taken={0, 2, 4, 5, 6, 7, 8, 9, 10, 11, 12, 13, 15, 16, 17, 18, 19, 20, 22, 23, 24, 25, 26, 27, 28, 29})\n"
     ]
    }
   ],
   "source": [
    "frontier = SimpleQueue() # Fifo -> for Breadth first (to solve looking for the minimum number of tiles)\n",
    "#frontier = LifoQueue() #for Depth first (to solve looking for the minimum number of steps)\n",
    "#frontier = PriorityQueue() #sorted by the key (for example using the distance from the solution you can implement a Greedy best-first)\n",
    "\n",
    "state = State(set(), set(range(NUM_SETS)))\n",
    "frontier.put((pessimistic_distance_from_the_solution(state), state))\n",
    "\n",
    "counter = 0\n",
    "_, current_state = frontier.get()\n",
    "while not goal_check(current_state):\n",
    "    counter += 1\n",
    "    for action in current_state[1]:\n",
    "        new_state = State(\n",
    "            current_state.taken ^ {action},\n",
    "            current_state.not_taken ^ {action},\n",
    "        )\n",
    "        frontier.put((pessimistic_distance_from_the_solution(new_state), new_state))\n",
    "    _, current_state = frontier.get()\n",
    "\n",
    "print(f\"Solved in {counter:,} steps ({len(current_state.taken)} sets of tiles)\")\n",
    "print(f\"Solution: {current_state}\")"
   ]
  }
 ],
 "metadata": {
  "kernelspec": {
   "display_name": "ci-P-7LqQ3C-py3.11",
   "language": "python",
   "name": "python3"
  },
  "language_info": {
   "codemirror_mode": {
    "name": "ipython",
    "version": 3
   },
   "file_extension": ".py",
   "mimetype": "text/x-python",
   "name": "python",
   "nbconvert_exporter": "python",
   "pygments_lexer": "ipython3",
   "version": "3.10.11"
  }
 },
 "nbformat": 4,
 "nbformat_minor": 2
}
