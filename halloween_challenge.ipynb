{
 "cells": [
  {
   "cell_type": "code",
   "execution_count": 127,
   "metadata": {},
   "outputs": [],
   "source": [
    "from itertools import product\n",
    "from random import random, randint, shuffle, seed\n",
    "import numpy as np\n",
    "from scipy import sparse\n",
    "from functools import reduce\n",
    "from copy import copy\n"
   ]
  },
  {
   "cell_type": "code",
   "execution_count": 128,
   "metadata": {},
   "outputs": [],
   "source": [
    "def make_set_covering_problem(num_points, num_sets, density):\n",
    "    \"\"\"Returns a sparse array where rows are sets and columns are the covered items\"\"\"\n",
    "    seed(num_points*2654435761+num_sets+density)\n",
    "    sets = sparse.lil_array((num_sets, num_points), dtype=bool)\n",
    "    for s, p in product(range(num_sets), range(num_points)):\n",
    "        if random() < density:\n",
    "            sets[s, p] = True\n",
    "    for p in range(num_points):\n",
    "        sets[randint(0, num_sets-1), p] = True\n",
    "    return sets"
   ]
  },
  {
   "cell_type": "code",
   "execution_count": 129,
   "metadata": {},
   "outputs": [
    {
     "name": "stdout",
     "output_type": "stream",
     "text": [
      "  (0, 2)\tTrue\n",
      "  (1, 0)\tTrue\n",
      "  (1, 2)\tTrue\n",
      "  (2, 0)\tTrue\n",
      "  (2, 2)\tTrue\n",
      "  (3, 2)\tTrue\n",
      "  (4, 1)\tTrue\n",
      "  (4, 2)\tTrue\n",
      "  (5, 1)\tTrue\n",
      "6\n",
      "[False False  True]\n"
     ]
    }
   ],
   "source": [
    "# some print for me to understand\n",
    "sets = make_set_covering_problem(3,6, 0.3)\n",
    "print(sets)\n",
    "print(sets.shape[0])\n",
    "print(sets.getrow(0).toarray().ravel())"
   ]
  },
  {
   "cell_type": "markdown",
   "metadata": {},
   "source": [
    "### Basically I set an initial array of all False and I tried using all the sets in order to find the best improvement at each step. In order to find the best combination I just counted the number of covered elements. I did this to make a comparison with the Hill Climber solution implemented later. "
   ]
  },
  {
   "cell_type": "code",
   "execution_count": 130,
   "metadata": {},
   "outputs": [],
   "source": [
    "NUM_POINTS = 1000 # try [100, 1_000, 5_000]\n",
    "NUM_SETS = NUM_POINTS\n",
    "DENSITY = .3"
   ]
  },
  {
   "cell_type": "code",
   "execution_count": 131,
   "metadata": {},
   "outputs": [],
   "source": [
    "def set_cover(sets):\n",
    "    covered = np.zeros(NUM_POINTS, dtype=bool)\n",
    "    chosen_sets = [] # array that contains the indexes of the chosen sets\n",
    "\n",
    "    while not all(covered):\n",
    "        max_covered_points = 0\n",
    "        best_set = 0\n",
    "        for i in range(sets.shape[0]):\n",
    "            set = sets.getrow(i).toarray().ravel() # row represented in the following form: [False True True False ...]\n",
    "            covered_points = np.logical_or(set, covered).sum()\n",
    "            if covered_points > max_covered_points:\n",
    "                max_covered_points = covered_points\n",
    "                best_set = i\n",
    "\n",
    "        chosen_sets.append(best_set)\n",
    "        covered.__ior__(sets.getrow(best_set).toarray().ravel()) # update with OR operator in-place\n",
    "\n",
    "    return chosen_sets"
   ]
  },
  {
   "cell_type": "code",
   "execution_count": 132,
   "metadata": {},
   "outputs": [
    {
     "name": "stdout",
     "output_type": "stream",
     "text": [
      "Chosen sets: [714, 404, 991, 572, 736, 951, 153, 212, 113, 6]\n"
     ]
    }
   ],
   "source": [
    "sets = make_set_covering_problem(NUM_POINTS, NUM_SETS, DENSITY)\n",
    "chosen_sets = set_cover(sets)\n",
    "print(\"Chosen sets:\", chosen_sets)"
   ]
  },
  {
   "cell_type": "markdown",
   "metadata": {},
   "source": [
    "## Random-Mutation Hill Climber implementation"
   ]
  },
  {
   "cell_type": "code",
   "execution_count": 133,
   "metadata": {},
   "outputs": [],
   "source": [
    "NUM_POINTS = 1000 # try [100, 1_000, 5_000]\n",
    "NUM_SETS = NUM_POINTS\n",
    "DENSITY = .3"
   ]
  },
  {
   "cell_type": "code",
   "execution_count": 169,
   "metadata": {},
   "outputs": [],
   "source": [
    "def random_tweak(sets, indexes, counter_untill_longer_jump):\n",
    "    new_state = np.zeros(NUM_POINTS, dtype=bool)\n",
    "    new_indexes = copy(indexes)\n",
    "    index = randint(0, NUM_SETS - 1)\n",
    "    if counter_untill_longer_jump > 1000:\n",
    "        for i in range(10): # try a bigger change\n",
    "            index = randint(0, NUM_SETS - 1)\n",
    "            new_indexes[index] = not new_indexes[index]\n",
    "    new_indexes[index] = not new_indexes[index]\n",
    "    for i in range(len(new_indexes)):\n",
    "        if new_indexes[i] == 1:\n",
    "            new_state = new_state.__ior__(sets.getrow(i).toarray().ravel())\n",
    "    return new_state, new_indexes, counter_untill_longer_jump\n",
    "\n",
    "def fitness(state, indexes):\n",
    "    cost = sum(indexes)\n",
    "    goal = np.sum(state)\n",
    "    return goal, -cost\n"
   ]
  },
  {
   "cell_type": "code",
   "execution_count": 165,
   "metadata": {},
   "outputs": [],
   "source": [
    "def rm_hill_climber(sets):\n",
    "    state = np.zeros(NUM_POINTS, dtype=bool)\n",
    "    indexes = np.zeros(NUM_SETS)\n",
    "    counter_until_longer_jump = 0\n",
    "\n",
    "    for step in range(10_000):\n",
    "        best_fitness = fitness(state, indexes)\n",
    "        new_state, new_indexes, counter_until_longer_jump = random_tweak(sets, indexes, counter_until_longer_jump)\n",
    "        if fitness(new_state, new_indexes) >= best_fitness:\n",
    "            state = new_state\n",
    "            indexes = new_indexes\n",
    "            print(fitness(state, indexes))\n",
    "            counter_until_longer_jump = 0\n",
    "        else:\n",
    "            counter_until_longer_jump += 1\n",
    "    \n",
    "    return indexes"
   ]
  },
  {
   "cell_type": "code",
   "execution_count": 170,
   "metadata": {},
   "outputs": [
    {
     "name": "stdout",
     "output_type": "stream",
     "text": [
      "(321, -1.0)\n",
      "(511, -2.0)\n",
      "(658, -3.0)\n",
      "(755, -4.0)\n",
      "(808, -5.0)\n",
      "(874, -6.0)\n",
      "(909, -7.0)\n",
      "(936, -8.0)\n",
      "(955, -9.0)\n",
      "(974, -10.0)\n",
      "(986, -11.0)\n",
      "(987, -12.0)\n",
      "(990, -13.0)\n",
      "(993, -14.0)\n",
      "(995, -15.0)\n",
      "(996, -16.0)\n",
      "(998, -17.0)\n",
      "(999, -18.0)\n",
      "(1000, -19.0)\n",
      "(1000, -18.0)\n",
      "(1000, -17.0)\n",
      "(1000, -16.0)\n",
      "(1000, -15.0)\n",
      "Chosen sets in the problem with NumPoints=Numsets=1000 and density=0.3:\n",
      "66 139 194 210 294 453 458 486 543 707 746 900 912 917 924 "
     ]
    }
   ],
   "source": [
    "sets = make_set_covering_problem(NUM_POINTS, NUM_SETS, DENSITY)\n",
    "indexes_chosen_sets = rm_hill_climber(sets)\n",
    "print(f\"Chosen sets in the problem with NumPoints=Numsets={NUM_POINTS} and density={DENSITY}:\")\n",
    "for i in range(len(indexes_chosen_sets)):\n",
    "    if indexes_chosen_sets[i] == 1:\n",
    "        print(i, end = \" \")\n"
   ]
  }
 ],
 "metadata": {
  "kernelspec": {
   "display_name": "comp_intel_venv",
   "language": "python",
   "name": "python3"
  },
  "language_info": {
   "codemirror_mode": {
    "name": "ipython",
    "version": 3
   },
   "file_extension": ".py",
   "mimetype": "text/x-python",
   "name": "python",
   "nbconvert_exporter": "python",
   "pygments_lexer": "ipython3",
   "version": "3.10.11"
  }
 },
 "nbformat": 4,
 "nbformat_minor": 2
}
