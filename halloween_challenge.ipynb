{
 "cells": [
  {
   "cell_type": "code",
   "execution_count": 40,
   "metadata": {},
   "outputs": [],
   "source": [
    "from itertools import product\n",
    "from random import random, randint, shuffle, seed\n",
    "import numpy as np\n",
    "from scipy import sparse"
   ]
  },
  {
   "cell_type": "code",
   "execution_count": 41,
   "metadata": {},
   "outputs": [],
   "source": [
    "def make_set_covering_problem(num_points, num_sets, density):\n",
    "    \"\"\"Returns a sparse array where rows are sets and columns are the covered items\"\"\"\n",
    "    seed(num_points*2654435761+num_sets+density)\n",
    "    sets = sparse.lil_array((num_sets, num_points), dtype=bool)\n",
    "    for s, p in product(range(num_sets), range(num_points)):\n",
    "        if random() < density:\n",
    "            sets[s, p] = True\n",
    "    for p in range(num_points):\n",
    "        sets[randint(0, num_sets-1), p] = True\n",
    "    return sets"
   ]
  },
  {
   "cell_type": "code",
   "execution_count": 42,
   "metadata": {},
   "outputs": [
    {
     "name": "stdout",
     "output_type": "stream",
     "text": [
      "  (0, 1)\tTrue\n",
      "  (0, 5)\tTrue\n",
      "  (0, 9)\tTrue\n",
      "  (1, 0)\tTrue\n",
      "  (1, 4)\tTrue\n",
      "  (1, 5)\tTrue\n",
      "  (1, 7)\tTrue\n",
      "  (1, 8)\tTrue\n",
      "  (2, 0)\tTrue\n",
      "  (2, 3)\tTrue\n",
      "  (2, 4)\tTrue\n",
      "  (2, 5)\tTrue\n",
      "  (3, 1)\tTrue\n",
      "  (3, 4)\tTrue\n",
      "  (3, 5)\tTrue\n",
      "  (3, 6)\tTrue\n",
      "  (4, 4)\tTrue\n",
      "  (5, 5)\tTrue\n",
      "  (5, 8)\tTrue\n",
      "  (6, 1)\tTrue\n",
      "  (6, 8)\tTrue\n",
      "  (7, 0)\tTrue\n",
      "  (7, 3)\tTrue\n",
      "  (7, 4)\tTrue\n",
      "  (7, 8)\tTrue\n",
      "  (7, 9)\tTrue\n",
      "  (8, 0)\tTrue\n",
      "  (8, 1)\tTrue\n",
      "  (8, 2)\tTrue\n",
      "  (8, 6)\tTrue\n",
      "  (9, 7)\tTrue\n",
      "  (10, 0)\tTrue\n",
      "  (10, 1)\tTrue\n",
      "  (10, 3)\tTrue\n",
      "  (10, 4)\tTrue\n",
      "  (10, 8)\tTrue\n",
      "  (11, 1)\tTrue\n",
      "  (11, 2)\tTrue\n",
      "  (11, 3)\tTrue\n",
      "  (11, 5)\tTrue\n",
      "  (11, 6)\tTrue\n",
      "  (11, 7)\tTrue\n",
      "  (11, 8)\tTrue\n",
      "  (11, 9)\tTrue\n",
      "  (12, 1)\tTrue\n",
      "  (12, 7)\tTrue\n",
      "  (12, 9)\tTrue\n",
      "  (13, 1)\tTrue\n",
      "  (13, 2)\tTrue\n",
      "  (13, 4)\tTrue\n",
      "  (14, 2)\tTrue\n",
      "  (14, 5)\tTrue\n",
      "  (14, 6)\tTrue\n",
      "  (14, 7)\tTrue\n",
      "  (14, 8)\tTrue\n",
      "  (15, 3)\tTrue\n",
      "  (15, 5)\tTrue\n",
      "  (15, 6)\tTrue\n",
      "  (15, 7)\tTrue\n",
      "  (15, 8)\tTrue\n",
      "  (16, 1)\tTrue\n",
      "  (16, 2)\tTrue\n",
      "  (16, 3)\tTrue\n",
      "  (16, 4)\tTrue\n",
      "  (16, 6)\tTrue\n",
      "  (16, 7)\tTrue\n",
      "  (17, 0)\tTrue\n",
      "  (17, 1)\tTrue\n",
      "  (17, 5)\tTrue\n",
      "  (18, 3)\tTrue\n",
      "  (18, 4)\tTrue\n",
      "  (19, 1)\tTrue\n",
      "  (19, 3)\tTrue\n",
      "  (19, 4)\tTrue\n",
      "  (19, 7)\tTrue\n",
      "20\n",
      "[False  True False False False  True False False False  True]\n"
     ]
    }
   ],
   "source": [
    "# some print for me to understand\n",
    "sets = make_set_covering_problem(10,20, 0.3)\n",
    "print(sets)\n",
    "print(sets.shape[0])\n",
    "print(sets.getrow(0).toarray().ravel())"
   ]
  },
  {
   "cell_type": "markdown",
   "metadata": {},
   "source": [
    "Basically I set an initial array of all False and I tried using all the sets in order to find the best improvement at each step. In order to find the best combination I just counted the number of covered elements. "
   ]
  },
  {
   "cell_type": "code",
   "execution_count": 43,
   "metadata": {},
   "outputs": [],
   "source": [
    "def set_cover(sets, num_points):\n",
    "    covered = np.zeros(num_points, dtype=bool)\n",
    "    chosen_sets = [] # array that contains the indexes of the chosen sets\n",
    "\n",
    "    while not all(covered):\n",
    "        max_covered_points = 0\n",
    "        best_set = 0\n",
    "        for i in range(sets.shape[0]):\n",
    "            set = sets.getrow(i).toarray().ravel() # row represented in the following form: [False True True False ...]\n",
    "            covered_points = np.logical_or(set, covered).sum()\n",
    "            if covered_points > max_covered_points:\n",
    "                max_covered_points = covered_points\n",
    "                best_set = i\n",
    "\n",
    "        chosen_sets.append(best_set)\n",
    "        covered.__ior__(sets.getrow(best_set).toarray().ravel()) # update with OR operator in-place\n",
    "\n",
    "    return chosen_sets"
   ]
  },
  {
   "cell_type": "code",
   "execution_count": 45,
   "metadata": {},
   "outputs": [
    {
     "name": "stdout",
     "output_type": "stream",
     "text": [
      "Chosen sets: [714, 404, 991, 572, 736, 951, 153, 212, 113, 6]\n",
      "Chosen sets: [414, 105, 46, 15]\n"
     ]
    }
   ],
   "source": [
    "num_points = 1000 # try [100, 1_000, 5_000]\n",
    "num_sets = num_points\n",
    "density = [.3, .7]\n",
    "for d in density:\n",
    "    sets = make_set_covering_problem(num_points, num_sets, d)\n",
    "    chosen_sets = set_cover(sets, num_points)\n",
    "    print(\"Chosen sets:\", chosen_sets)"
   ]
  }
 ],
 "metadata": {
  "kernelspec": {
   "display_name": "comp_intel_venv",
   "language": "python",
   "name": "python3"
  },
  "language_info": {
   "codemirror_mode": {
    "name": "ipython",
    "version": 3
   },
   "file_extension": ".py",
   "mimetype": "text/x-python",
   "name": "python",
   "nbconvert_exporter": "python",
   "pygments_lexer": "ipython3",
   "version": "3.10.11"
  }
 },
 "nbformat": 4,
 "nbformat_minor": 2
}
